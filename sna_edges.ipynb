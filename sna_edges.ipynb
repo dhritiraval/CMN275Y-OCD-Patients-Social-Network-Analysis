{
 "cells": [
  {
   "cell_type": "code",
   "execution_count": 5,
   "id": "4be9dc5d",
   "metadata": {},
   "outputs": [],
   "source": [
    "import csv\n",
    "from collections import defaultdict\n",
    "\n",
    "# Load patient data\n",
    "patients = []\n",
    "with open('patients.csv', 'r') as f:\n",
    "    reader = csv.reader(f)\n",
    "    next(reader) # Skip header row\n",
    "    for row in reader:\n",
    "        patients.append(row)\n",
    "        \n",
    "# Create dicts to map diagnosis and medication to patients        \n",
    "diagnosis_to_patients = defaultdict(list) \n",
    "#medication_to_patients = defaultdict(list)\n",
    "\n",
    "for patient in patients:\n",
    "    patient_id = patient[0]\n",
    "    for diagnosis in patient[3].split(\";\"):\n",
    "        diagnosis_to_patients[diagnosis].append(patient_id)\n",
    "        \n",
    "#    for medication in patient[4].split(\";\"):\n",
    "#        medication_to_patients[medication].append(patient_id)\n",
    "        \n",
    "# Create edge list        \n",
    "edges = [] \n",
    "\n",
    "for diagnosis, patient_ids in diagnosis_to_patients.items():\n",
    "    if len(patient_ids) > 1:\n",
    "        for i in range(len(patient_ids)):\n",
    "            for j in range(i+1, len(patient_ids)):\n",
    "                edges.append([patient_ids[i], patient_ids[j], \"Shared_Diagnosis\"])\n",
    "                \n",
    "#for medication, patient_ids in medication_to_patients.items():\n",
    "#    if len(patient_ids) > 1:\n",
    "#        for i in range(len(patient_ids)):\n",
    " #           for j in range(i+1, len(patient_ids)):\n",
    "#                edges.append([patient_ids[i], patient_ids[j], \"Shared_Medication\"])\n",
    "\n",
    "# Write edge list csv            \n",
    "with open(\"edges.csv\", \"w\") as f:\n",
    "    writer = csv.writer(f) \n",
    "    writer.writerow([\"Source\", \"Target\", \"Type\"])     \n",
    "    writer.writerows(edges)"
   ]
  }
 ],
 "metadata": {
  "kernelspec": {
   "display_name": "Python 3 (ipykernel)",
   "language": "python",
   "name": "python3"
  },
  "language_info": {
   "codemirror_mode": {
    "name": "ipython",
    "version": 3
   },
   "file_extension": ".py",
   "mimetype": "text/x-python",
   "name": "python",
   "nbconvert_exporter": "python",
   "pygments_lexer": "ipython3",
   "version": "3.11.5"
  }
 },
 "nbformat": 4,
 "nbformat_minor": 5
}
